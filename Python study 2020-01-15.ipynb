{
 "cells": [
  {
   "cell_type": "markdown",
   "metadata": {},
   "source": [
    "# 1. *args & **kargs"
   ]
  },
  {
   "cell_type": "markdown",
   "metadata": {},
   "source": [
    "인자(argument)와 파라미터\n",
    "\n",
    "파이썬에서 * 는 주소값을 저장하는게 아니라 여러 개의 인수를 받을 때, 키워드 인수를 받을 때 사용하는 표시\n",
    "\n",
    "참고: https://brunch.co.kr/@princox/180"
   ]
  },
  {
   "cell_type": "markdown",
   "metadata": {},
   "source": [
    "### 1) args: 사용자가 몇 개의 인수를 넣을지 알 수 없을 때 사용, input type = tuple"
   ]
  },
  {
   "cell_type": "code",
   "execution_count": 14,
   "metadata": {},
   "outputs": [],
   "source": [
    "def lastName_and_firstName(*args):\n",
    "    for name in args: \n",
    "        print(\"%s %s\" % (name[0], name[1:3]), end = ' ')\n",
    "        print(\"\\n\")\n",
    "        print(type(args))"
   ]
  },
  {
   "cell_type": "code",
   "execution_count": 15,
   "metadata": {},
   "outputs": [
    {
     "name": "stdout",
     "output_type": "stream",
     "text": [
      "유 정선 \n",
      "\n",
      "<class 'tuple'>\n",
      "유 정선 \n",
      "\n",
      "<class 'tuple'>\n",
      "J un \n",
      "\n",
      "<class 'tuple'>\n"
     ]
    }
   ],
   "source": [
    "lastName_and_firstName(\"유정선\", \"유정선1\", \"Jungsun Yoo\")"
   ]
  },
  {
   "cell_type": "markdown",
   "metadata": {},
   "source": [
    "### 2) kargs: keyword argument의 줄임말로 키워드를 제공, input type = dictionary"
   ]
  },
  {
   "cell_type": "code",
   "execution_count": 18,
   "metadata": {},
   "outputs": [],
   "source": [
    "def experimentConditions(**kwargs):\n",
    "    for key, value in kwargs.items(): \n",
    "        print(\"Condition {0} = {1}\".format(key, value))\n",
    "        print(type(kwargs))"
   ]
  },
  {
   "cell_type": "code",
   "execution_count": 19,
   "metadata": {
    "scrolled": true
   },
   "outputs": [
    {
     "name": "stdout",
     "output_type": "stream",
     "text": [
      "Condition one = Scene\n",
      "<class 'dict'>\n",
      "Condition two = Object\n",
      "<class 'dict'>\n"
     ]
    }
   ],
   "source": [
    "experimentConditions(one = \"Scene\", two = \"Object\")"
   ]
  },
  {
   "cell_type": "markdown",
   "metadata": {},
   "source": [
    "## 2. Override\n",
    "오버라이드: 같은 이름을 가진 메소드를 덮어쓴다 \n",
    "\n",
    "참고: https://rednooby.tistory.com/55"
   ]
  },
  {
   "cell_type": "markdown",
   "metadata": {},
   "source": [
    "### Practice"
   ]
  },
  {
   "cell_type": "code",
   "execution_count": 22,
   "metadata": {},
   "outputs": [
    {
     "name": "stdout",
     "output_type": "stream",
     "text": [
      "잘생겼다\n",
      "예쁘다\n"
     ]
    }
   ],
   "source": [
    "class father(): # 부모 클래스\n",
    "    def handsome(self):\n",
    "        print(\"잘생겼다\")\n",
    "        \n",
    "class brother(father): # 자식클래스 (부모클래스) 아빠메소드를 상속받겠다 \n",
    "    \"\"\"아들\"\"\"\n",
    "    \n",
    "class sister(father):\n",
    "    def pretty(self):\n",
    "        print(\"예쁘다\")\n",
    "    def handsome(self):\n",
    "        self.pretty()\n",
    "    \n",
    "brother = brother()\n",
    "brother.handsome()\n",
    "\n",
    "girl = sister()\n",
    "girl.handsome()"
   ]
  },
  {
   "cell_type": "markdown",
   "metadata": {},
   "source": [
    "## 3. Super\n",
    "super(): 자식 클래스에서 부모클래스의 내용을 사용하고 싶을 경우 사용"
   ]
  },
  {
   "cell_type": "code",
   "execution_count": 27,
   "metadata": {},
   "outputs": [
    {
     "name": "stdout",
     "output_type": "stream",
     "text": [
      "잘생겼다\n"
     ]
    }
   ],
   "source": [
    "class father():\n",
    "    def handsome(self):\n",
    "        print(\"잘생겼다\")\n",
    "        \n",
    "class brother(father):\n",
    "    \"\"\"아들\"\"\"\n",
    "    \n",
    "class sister(father):\n",
    "    def pretty(self):\n",
    "        print(\"예쁘다\")\n",
    "    def handsome(self):\n",
    "        super().handsome()\n",
    "        \n",
    "brother = brother()\n",
    "brother.handsome()\n",
    "\n",
    "girl = sister()\n"
   ]
  },
  {
   "cell_type": "code",
   "execution_count": null,
   "metadata": {},
   "outputs": [],
   "source": []
  },
  {
   "cell_type": "code",
   "execution_count": null,
   "metadata": {},
   "outputs": [],
   "source": []
  },
  {
   "cell_type": "code",
   "execution_count": null,
   "metadata": {},
   "outputs": [],
   "source": []
  },
  {
   "cell_type": "code",
   "execution_count": null,
   "metadata": {},
   "outputs": [],
   "source": []
  },
  {
   "cell_type": "code",
   "execution_count": null,
   "metadata": {},
   "outputs": [],
   "source": []
  },
  {
   "cell_type": "code",
   "execution_count": null,
   "metadata": {},
   "outputs": [],
   "source": []
  },
  {
   "cell_type": "code",
   "execution_count": null,
   "metadata": {},
   "outputs": [],
   "source": []
  },
  {
   "cell_type": "code",
   "execution_count": null,
   "metadata": {},
   "outputs": [],
   "source": []
  },
  {
   "cell_type": "code",
   "execution_count": null,
   "metadata": {},
   "outputs": [],
   "source": []
  },
  {
   "cell_type": "code",
   "execution_count": null,
   "metadata": {},
   "outputs": [],
   "source": []
  },
  {
   "cell_type": "code",
   "execution_count": null,
   "metadata": {},
   "outputs": [],
   "source": []
  },
  {
   "cell_type": "code",
   "execution_count": null,
   "metadata": {},
   "outputs": [],
   "source": []
  }
 ],
 "metadata": {
  "kernelspec": {
   "display_name": "Python 3",
   "language": "python",
   "name": "python3"
  },
  "language_info": {
   "codemirror_mode": {
    "name": "ipython",
    "version": 3
   },
   "file_extension": ".py",
   "mimetype": "text/x-python",
   "name": "python",
   "nbconvert_exporter": "python",
   "pygments_lexer": "ipython3",
   "version": "3.7.6"
  }
 },
 "nbformat": 4,
 "nbformat_minor": 2
}
